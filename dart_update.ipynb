{
 "cells": [
  {
   "cell_type": "code",
   "execution_count": null,
   "metadata": {},
   "outputs": [],
   "source": [
    "import os\n",
    "import requests as re\n",
    "from bs4 import BeautifulSoup\n",
    "import json\n",
    "import numpy as np\n",
    "import pandas as pd\n",
    "from io import BytesIO\n",
    "from tqdm.auto import tqdm\n",
    "import time\n",
    "import glob\n",
    "from datetime import datetime\n",
    "import io\n",
    "import zipfile\n",
    "\n",
    "import xml.etree.ElementTree as ET\n",
    "\n",
    "import seaborn as sns\n",
    "import matplotlib.pyplot as plt\n",
    "\n",
    "try:\n",
    "    from pandas import json_normalize\n",
    "except ImportError:\n",
    "    from pandas.io.json import json_normalize\n",
    "\n",
    "from crawling.crawler import *\n",
    "from preprocessing.preprocessing_dart import DartFinstate, calculate_annualized\n",
    "from crawling.crawling_dart import CrawlingDart\n",
    "\n",
    "from database.access import AccessDataBase\n",
    "from preprocessing.finance_ratio import GetRatio\n",
    "\n",
    "## connect database\n",
    "db_dart = AccessDataBase('root', 'jys1013011!', 'dart')\n",
    "db_dart_bak = AccessDataBase('root', 'jys1013011!', 'dart_bak')"
   ]
  },
  {
   "cell_type": "markdown",
   "metadata": {},
   "source": [
    "---\n",
    "### Kospi"
   ]
  },
  {
   "cell_type": "markdown",
   "metadata": {},
   "source": [
    "---\n",
    "#### Crawling: dart_finstatements"
   ]
  },
  {
   "cell_type": "code",
   "execution_count": null,
   "metadata": {},
   "outputs": [],
   "source": [
    "# stock codes\n",
    "stocks_df = db_dart.get_tbl('dart_stocks')\n",
    "stock_codes = stocks_df.stock_code.unique()"
   ]
  },
  {
   "cell_type": "code",
   "execution_count": null,
   "metadata": {},
   "outputs": [],
   "source": [
    "# Test: kospi 200\n",
    "stock_codes = stock_codes[:200]"
   ]
  },
  {
   "cell_type": "code",
   "execution_count": null,
   "metadata": {},
   "outputs": [],
   "source": [
    "# get finstatements to dart \n",
    "crw = CrawlingDart()\n",
    "crw.quarters = ['Q202211012']\n",
    "\n",
    "fins, error, error_none = [], [], []\n",
    "for stock_code in tqdm(stock_codes):\n",
    "    _fins, _error, _error_none = crw.get_finstates(stock_code)\n",
    "    fins += _fins\n",
    "    error += _error\n",
    "    error_none += _error_none\n",
    "print(len(stock_codes), len(error), len(error_none))\n",
    "\n",
    "# re-get error: None type\n",
    "fins_re_0, error_re_0 = [], []\n",
    "for codeq in tqdm(error):\n",
    "    code = codeq[0]\n",
    "    q = codeq[1]\n",
    "    fin, status = crw.get_finstate(code, q)\n",
    "    \n",
    "    if status == 1:\n",
    "        fins_re_0.append(fin)\n",
    "    else:\n",
    "        error_re_0.append([code, q])\n",
    "# print(len(fins_re_0), len(error_re_0))\n",
    "\n",
    "# re-get error: The others\n",
    "fins_re_1, error_none_re_1 = [], []\n",
    "for codeq in tqdm(error_none):\n",
    "    code = codeq[0]\n",
    "    q = codeq[1]\n",
    "    fin, status = crw.get_finstate(code, q)\n",
    "    \n",
    "    if status == 1:\n",
    "        fins_re_1.append(fin)\n",
    "    else:\n",
    "        error_none_re_1.append([code, q])\n",
    "print(len(fins_re_1), len(error_none_re_1))\n",
    "\n",
    "# re-get error 2: None type\n",
    "fins_re_2, error_re_2 = [], []\n",
    "for codeq in tqdm(error_re_0):\n",
    "    code = codeq[0]\n",
    "    q = codeq[1]\n",
    "    fin, status = crw.get_finstate(code, q)\n",
    "    \n",
    "    if status == 1:\n",
    "        fins_re_2.append(fin)\n",
    "    else:\n",
    "        error_re_2.append([code, q])\n",
    "print(len(fins_re_2), len(error_re_2))\n",
    "        \n",
    "if len(error_re_0) == len(error_re_2) and len(fins_re_2) == 0:\n",
    "    print('Complete!')"
   ]
  },
  {
   "cell_type": "markdown",
   "metadata": {},
   "source": [
    "---\n",
    "#### Upload: dart_finstatements"
   ]
  },
  {
   "cell_type": "code",
   "execution_count": null,
   "metadata": {},
   "outputs": [],
   "source": [
    "# concat & dedup\n",
    "_fins_ = fins + fins_re_0 + fins_re_1\n",
    "df_concat_kospi = pd.concat(_fins_)\n",
    "\n",
    "columns = ['rcept_no', 'reprt_code', 'bsns_year', 'corp_code', 'sj_div', 'sj_nm', 'fs_div', 'stock_code', 'account_id', 'account_nm', 'thstrm_nm', 'thstrm_amount']\n",
    "df_dedup_kospi = df_concat_kospi.drop_duplicates(subset=columns, keep='first', ignore_index=True)\n",
    "\n",
    "fins_df = df_dedup_kospi.loc[:, columns]\n",
    "fins_df.loc[fins_df.thstrm_amount=='', 'thstrm_amount'] = None\n",
    "fins_df.loc[:, 'thstrm_amount'] = fins_df.thstrm_amount.astype('float64')"
   ]
  },
  {
   "cell_type": "code",
   "execution_count": null,
   "metadata": {},
   "outputs": [],
   "source": [
    "fins_df.info()\n",
    "fins_df.head()\n",
    "\n",
    "# print(len(fins_df.stock_code.unique()))"
   ]
  },
  {
   "cell_type": "code",
   "execution_count": null,
   "metadata": {},
   "outputs": [],
   "source": [
    "# upload dart_finstatements\n",
    "# db_dart_bak.engine_upload(fins_df, 'dart_finstatements', 'append')"
   ]
  },
  {
   "cell_type": "markdown",
   "metadata": {},
   "source": [
    "---\n",
    "#### Upload: dart_amounts"
   ]
  },
  {
   "cell_type": "code",
   "execution_count": null,
   "metadata": {},
   "outputs": [],
   "source": [
    "''' Create quarter amount all table '''\n",
    "\n",
    "# Kospi: All\n",
    "fins_df = db_dart_bak.get_tbl('dart_finstatements')\n",
    "dartfins = DartFinstate(fins_df)\n",
    "amounts_all_df = dartfins.create_amount_quarter()\n",
    "amounts_all_df.groupby('sj_div').count()\n",
    "\n",
    "# upload table\n",
    "# db_dart_bak.create_table(upload_df=amounts_all_df, table_name='dart_amounts_all')"
   ]
  },
  {
   "cell_type": "code",
   "execution_count": null,
   "metadata": {},
   "outputs": [],
   "source": [
    "''' Get confirmed account amount \n",
    "    All data (replace) '''\n",
    "\n",
    "fins_df = pd.DataFrame()\n",
    "dartfins = DartFinstate(fins_df)\n",
    "amounts_all_df = db_dart_bak.get_tbl('dart_amounts_all')\n",
    "accounts_df = db_dart_bak.get_tbl('dart_accounts')\n",
    "amounts_df = dartfins.get_amounts(amounts_all_df, accounts_df)\n",
    "amounts_df.groupby('account_nm_eng').count()['stock_code']"
   ]
  },
  {
   "cell_type": "code",
   "execution_count": null,
   "metadata": {},
   "outputs": [],
   "source": [
    "''' Get confirmed account amount \n",
    "    New data (append) '''\n",
    "\n",
    "dartfins = DartFinstate(pd.DataFrame())\n",
    "amounts_all_df = db_dart_bak.get_tbl('dart_amounts_all')\n",
    "\n",
    "accounts_df = db_dart_bak.get_tbl('dart_accounts')\n",
    "dart_amounts_df = db_dart.get_tbl('dart_amounts')\n",
    "confirmed_accounts = dart_amounts_df.account_nm_eng.unique().tolist()\n",
    "\n",
    "new_accounts = []\n",
    "for account in accounts_df.account_nm_eng.unique():\n",
    "    if account in confirmed_accounts:\n",
    "        pass\n",
    "    else:\n",
    "        new_accounts.append(account)\n",
    "accounts_df = accounts_df[accounts_df.account_nm_eng.isin(new_accounts)].reset_index(drop=True)\n",
    "\n",
    "if accounts_df.empty:\n",
    "    print('Dataframe empty')\n",
    "else:\n",
    "    amounts_df = dartfins.get_amounts(amounts_all_df, accounts_df)\n",
    "    amounts_df.groupby('account_nm_eng').count()['stock_code']"
   ]
  },
  {
   "cell_type": "code",
   "execution_count": null,
   "metadata": {},
   "outputs": [],
   "source": [
    "''' Caculate 4th quarter net '''\n",
    "\n",
    "df_amounts_validitied = amounts_df.loc[amounts_df.validity].reset_index(drop=True)\n",
    "df_amounts_quarter = dartfins.calculate_quarter(df_amounts_validitied)\n",
    "df_amounts_quarter_db = df_amounts_quarter.drop(columns=['corp_code', 'account_nm'])\n",
    "df_amounts_quarter_db.info()\n",
    "df_amounts_quarter_db.tail(5)"
   ]
  },
  {
   "cell_type": "code",
   "execution_count": null,
   "metadata": {},
   "outputs": [],
   "source": [
    "''' Upload table: dart_amounts '''\n",
    "\n",
    "table = 'dart_amounts'\n",
    "fields = tuple(df_amounts_quarter_db.columns)\n",
    "data = df_amounts_quarter_db.values.tolist()\n",
    "db_dart.insert_many(table_name=table, fields=fields, data=data)\n",
    "\n",
    "# db_dart.engine_upload(upload_df=df_amounts_quarter_db, table_name=table, if_exists_option='append')"
   ]
  },
  {
   "cell_type": "code",
   "execution_count": null,
   "metadata": {},
   "outputs": [],
   "source": [
    "''' Upload table: dart_accounts '''\n",
    "\n",
    "table = 'dart_accounts'\n",
    "fields = tuple(accounts_df.columns)\n",
    "data = accounts_df.values.tolist()\n",
    "db_dart.insert_many(table_name=table, fields=fields, data=data)\n",
    "    \n",
    "# db_dart.engine_upload(upload_df=accounts_df, table_name=table, if_exists_option='append')"
   ]
  },
  {
   "cell_type": "markdown",
   "metadata": {},
   "source": [
    "---\n",
    "#### Django table delete | truncate"
   ]
  },
  {
   "cell_type": "code",
   "execution_count": null,
   "metadata": {},
   "outputs": [],
   "source": [
    "# tables = ['dart_amounts', 'dart_accounts']\n",
    "tables = ['dart_accounts']\n",
    "app_name = 'django'"
   ]
  },
  {
   "cell_type": "code",
   "execution_count": null,
   "metadata": {},
   "outputs": [],
   "source": [
    "# Drop\n",
    "\n",
    "conn, curs = db_dart._connect()\n",
    "\n",
    "for table in tables:\n",
    "    query = f'DROP TABLE {table};'\n",
    "    curs.execute(query)\n",
    "\n",
    "query = f\"DELETE FROM `{app_name}_migrations` WHERE app='{app_name}';\"\n",
    "curs.execute(query)\n",
    "\n",
    "conn.commit()\n",
    "curs.close()\n",
    "conn.close()"
   ]
  },
  {
   "cell_type": "code",
   "execution_count": null,
   "metadata": {},
   "outputs": [],
   "source": [
    "# Truncate\n",
    "\n",
    "conn, curs = db_dart._connect()\n",
    "\n",
    "for table in tables:\n",
    "    query = f'TRUNCATE TABLE {table};'\n",
    "    curs.execute(query)\n",
    "\n",
    "conn.commit()\n",
    "curs.close()\n",
    "conn.close()"
   ]
  },
  {
   "cell_type": "code",
   "execution_count": null,
   "metadata": {},
   "outputs": [],
   "source": []
  },
  {
   "cell_type": "code",
   "execution_count": null,
   "metadata": {},
   "outputs": [],
   "source": []
  },
  {
   "cell_type": "markdown",
   "metadata": {},
   "source": [
    "---\n",
    "#### Dart table backup "
   ]
  },
  {
   "cell_type": "code",
   "execution_count": null,
   "metadata": {},
   "outputs": [],
   "source": [
    "# fins_df = db_dart.get_tbl('dart_finstatements').drop(columns='id')\n",
    "# accounts_df = db_btkr.get_tbl('dart_accounts_id')\n",
    "# accounts_all_df = db_btkr.get_tbl('dart_finstatement_accounts')"
   ]
  },
  {
   "cell_type": "code",
   "execution_count": null,
   "metadata": {},
   "outputs": [],
   "source": [
    "# db_dart_bak.create_table(upload_df=fins_df, table_name='dart_finstatements')\n",
    "# db_dart_bak.create_table(upload_df=amounts_all_df, table_name='dart_amounts_all') \n",
    "# db_dart_bak.create_table(upload_df=accounts_df, table_name='dart_accounts')\n",
    "# db_dart_bak.create_table(upload_df=accounts_all_df, table_name='dart_accounts_all')"
   ]
  },
  {
   "cell_type": "code",
   "execution_count": null,
   "metadata": {},
   "outputs": [],
   "source": [
    "# backup: `dart_amounts`\n",
    "tbl = 'dart_amounts'\n",
    "df = db_dart.get_tbl(tbl)\n",
    "db_dart_bak.create_table(upload_df=df, table_name=tbl)"
   ]
  },
  {
   "cell_type": "code",
   "execution_count": null,
   "metadata": {},
   "outputs": [],
   "source": [
    "# backup: `dart_accounts`\n",
    "tbl = 'dart_accounts'\n",
    "df = db_dart.get_tbl(tbl)\n",
    "db_dart_bak.create_table(upload_df=df, table_name=tbl)"
   ]
  },
  {
   "cell_type": "code",
   "execution_count": null,
   "metadata": {},
   "outputs": [],
   "source": []
  },
  {
   "cell_type": "markdown",
   "metadata": {},
   "source": [
    "---\n",
    "### Kosdaq"
   ]
  },
  {
   "cell_type": "code",
   "execution_count": null,
   "metadata": {},
   "outputs": [],
   "source": [
    "# today \n",
    "today_date = datetime.today().strftime('%Y%m%d')\n",
    "\n",
    "# market\n",
    "market = \"kosdaq\"\n",
    "\n",
    "# 주가정보, 거래대금 및 주식 수 정보\n",
    "stocks = get_stock_info(market, today_date)\n",
    "    \n",
    "# 보통주 종목코드 \n",
    "common =  get_common_stock_info(market)\n",
    "\n",
    "# stocks에서 보통주만 추출 \n",
    "common_stocks = common.loc[:, ['종목코드']].merge(stocks, on='종목코드', how='inner').sort_values(by='시가총액', ascending=False).reset_index(drop=True)\n",
    "\n",
    "# stock codes\n",
    "stock_codes = common_stocks.종목코드.unique().tolist()\n"
   ]
  },
  {
   "cell_type": "code",
   "execution_count": null,
   "metadata": {},
   "outputs": [],
   "source": [
    "# get finstatements to dart \n",
    "crw = CrawlingDart()\n",
    "\n",
    "fins, error, error_none = [], [], []\n",
    "for stock_code in tqdm(stock_codes):\n",
    "    _fins, _error, _error_none = crw.get_finstates(stock_code)\n",
    "    fins += _fins\n",
    "    error += _error\n",
    "    error_none += _error_none\n",
    "print(len(stock_codes), len(error), len(error_none))\n",
    "\n",
    "# re-get error: None type\n",
    "fins_re_0, error_re_0 = [], []\n",
    "for codeq in tqdm(error):\n",
    "    code = codeq[0]\n",
    "    q = codeq[1]\n",
    "    fin, status = crw.get_finstate(code, q)\n",
    "    \n",
    "    if status == 1:\n",
    "        fins_re_0.append(fin)\n",
    "    else:\n",
    "        error_re_0.append([code, q])\n",
    "print(len(fins_re_0), len(error_re_0))\n",
    "\n",
    "# re-get error: The others\n",
    "fins_re_1, error_none_re_1 = [], []\n",
    "for codeq in tqdm(error_none):\n",
    "    code = codeq[0]\n",
    "    q = codeq[1]\n",
    "    fin, status = crw.get_finstate(code, q)\n",
    "    \n",
    "    if status == 1:\n",
    "        fins_re_1.append(fin)\n",
    "    else:\n",
    "        error_none_re_1.append([code, q])\n",
    "print(len(fins_re_1), len(error_none_re_1))\n",
    "\n",
    "\n",
    "# concat & dedup\n",
    "_fins_ = fins + fins_re_0 + fins_re_1\n",
    "df_concat_kosdaq = pd.concat(_fins_)\n",
    "df_dedup_kosdaq = df_concat_kosdaq.drop_duplicates(keep='first')"
   ]
  },
  {
   "cell_type": "code",
   "execution_count": null,
   "metadata": {},
   "outputs": [],
   "source": []
  },
  {
   "cell_type": "code",
   "execution_count": null,
   "metadata": {},
   "outputs": [],
   "source": []
  },
  {
   "cell_type": "markdown",
   "metadata": {},
   "source": [
    "---\n",
    "### Test"
   ]
  },
  {
   "cell_type": "code",
   "execution_count": null,
   "metadata": {},
   "outputs": [],
   "source": [
    "''' Test 1: Create Table '''\n",
    "\n",
    "# conn, curs = db_dart_bak._connect()\n",
    "\n",
    "# query = '''\\\n",
    "# CREATE TABLE `dart_accounts_test` (\\\n",
    "# `id` bigint AUTO_INCREMENT NOT NULL PRIMARY KEY,\\\n",
    "# `account_nm_eng` varchar(255) NOT NULL,\\\n",
    "# `account_id` varchar(255) NOT NULL,\\\n",
    "# `account_nm_kor` varchar(255) NOT NULL);'''\n",
    "\n",
    "# curs.execute(query)\n",
    "\n",
    "# conn.commit()\n",
    "# curs.close()\n",
    "# conn.close()\n",
    "\n",
    "table='dart_accounts_test'\n",
    "fields=('account_nm_eng', 'account_id', 'account_nm_kor')\n",
    "\n",
    "for i in range(len(accounts_df)):\n",
    "    value = tuple(accounts_df.loc[i].values)\n",
    "    db_dart_bak.insert(table=table, fields=fields, values=value)"
   ]
  },
  {
   "cell_type": "code",
   "execution_count": null,
   "metadata": {},
   "outputs": [],
   "source": [
    "# ''' Test 2: finstatement all '''\n",
    "# df = db_dart_bak.get_tbl('dart_finstatements')\n",
    "\n",
    "# code = df.sample(1).stock_code.values[0]\n",
    "# sj_div = 'BS'\n",
    "# thstrm_nm = 'Y202111011'\n",
    "\n",
    "Downloads = '/Users/yeonseosla/Downloads'\n",
    "df.loc[(df.stock_code==code) & (df.sj_div=='BS') & (df.thstrm_nm=='Y202111011')].to_csv('/Users/yeonseosla/Downloads/bs.csv', index=False)"
   ]
  },
  {
   "cell_type": "code",
   "execution_count": null,
   "metadata": {},
   "outputs": [],
   "source": [
    "''' Test 3: update_amounts '''\n",
    "\n",
    "def update_amounts(accounts_df, amounts_all_df):\n",
    "    ''' Get confirmed account amount \n",
    "        New data (append) '''\n",
    "\n",
    "    dart_amounts_df = db_dart.get_tbl('dart_amounts')\n",
    "    confirmed_accounts = dart_amounts_df.account_nm_eng.unique().tolist()\n",
    "\n",
    "    new_accounts = []\n",
    "    for account in accounts_df.account_nm_eng.unique():\n",
    "        if account in confirmed_accounts:\n",
    "            pass\n",
    "        else:\n",
    "            new_accounts.append(account)\n",
    "    accounts_df = accounts_df[accounts_df.account_nm_eng.isin(new_accounts)].reset_index(drop=True)\n",
    "\n",
    "    if accounts_df.empty:\n",
    "        status = 0\n",
    "        accounts_new = None\n",
    "        print('Dataframe empty')\n",
    "    else:\n",
    "        status = 1\n",
    "        accounts_new = accounts_df.account_nm_eng.unique().tolist()\n",
    "        amounts_df = dartfins.get_amounts(amounts_all_df, accounts_df)\n",
    "        \n",
    "    if status == 1:\n",
    "        # Caculate 4th quarter net\n",
    "        df_amounts_validitied = amounts_df.loc[amounts_df.validity].reset_index(drop=True)\n",
    "        df_amounts_quarter = dartfins.calculate_quarter(df_amounts_validitied)\n",
    "        df_amounts_quarter_db = df_amounts_quarter.drop(columns=['corp_code'])\n",
    "\n",
    "        # Upload table: dart_amounts\n",
    "        table = 'dart_amounts'\n",
    "        fields = tuple(df_amounts_quarter_db.columns)\n",
    "        data = df_amounts_quarter_db.values.tolist()\n",
    "        db_dart.insert_many(table_name=table, fields=fields, data=data)\n",
    "\n",
    "    return status, accounts_new"
   ]
  },
  {
   "cell_type": "code",
   "execution_count": null,
   "metadata": {},
   "outputs": [],
   "source": [
    "accounts_df = db_dart_bak.get_tbl('dart_accounts')\n",
    "dart_amounts_df = db_dart.get_tbl('dart_amounts')\n",
    "confirmed_accounts = dart_amounts_df.account_nm_eng.unique().tolist()\n",
    "\n",
    "new_accounts = []\n",
    "for account in accounts_df.account_nm_eng.unique():\n",
    "    if account in confirmed_accounts:\n",
    "        pass\n",
    "    else:\n",
    "        new_accounts.append(account)\n",
    "accounts_df = accounts_df[accounts_df.account_nm_eng.isin(new_accounts)].reset_index(drop=True)\n",
    "accounts_df"
   ]
  },
  {
   "cell_type": "code",
   "execution_count": null,
   "metadata": {},
   "outputs": [],
   "source": [
    "# accounts_new = accounts_df.account_nm_eng.unique().tolist()\n",
    "# dartfins = DartFinstate(pd.DataFrame())\n",
    "# amounts_all_df = db_dart_bak.get_tbl('dart_amounts_all')\n",
    "# amounts_df = dartfins.get_amounts(amounts_all_df, accounts_df)\n",
    "\n",
    "# Caculate 4th quarter net\n",
    "# df_amounts_validitied = amounts_df.loc[amounts_df.validity].reset_index(drop=True)\n",
    "# df_amounts_quarter = dartfins.calculate_quarter(df_amounts_validitied)\n",
    "df_amounts_quarter_db = df_amounts_quarter.drop(columns='corp_code')"
   ]
  },
  {
   "cell_type": "code",
   "execution_count": null,
   "metadata": {},
   "outputs": [],
   "source": [
    "df_amounts_quarter_db"
   ]
  },
  {
   "cell_type": "code",
   "execution_count": null,
   "metadata": {},
   "outputs": [],
   "source": []
  },
  {
   "cell_type": "markdown",
   "metadata": {},
   "source": [
    "---\n",
    "### ROE"
   ]
  },
  {
   "cell_type": "code",
   "execution_count": null,
   "metadata": {},
   "outputs": [],
   "source": [
    "# df_amounts_quarter = db_dart.get_tbl('dart_amounts')\n",
    "# quarters = DartFinstate(pd.DataFrame()).quarters_q\n",
    "\n",
    "# df_amounts_annualized = calculate_annualized(quarters_i=4) # annualized\n",
    "df_amounts_annualized_octa = calculate_annualized(quarters_i=8) # annualized_octa"
   ]
  },
  {
   "cell_type": "code",
   "execution_count": null,
   "metadata": {},
   "outputs": [],
   "source": [
    "# db_dart_bak.create_table(upload_df=df_amounts_annualized, table_name='dart_annualized')\n",
    "# db_dart_bak.create_table(upload_df=df_amounts_annualized_octa, table_name='dart_annualized_octa')"
   ]
  },
  {
   "cell_type": "code",
   "execution_count": null,
   "metadata": {},
   "outputs": [],
   "source": [
    "# ROE 계산을 위한 필수 계정과목 금액 존재하는 종목만 추출\n",
    "# essential_accounts = ['revenue', 'assets', 'equity', 'tax_expense', 'profit_before_tax', 'income', 'owner_equity']\n",
    "essential_accounts = ['owners_profit', 'owner_equity']\n",
    "\n",
    "codes = []\n",
    "for code in df_amounts_annualized_octa.stock_code.unique():\n",
    "    accounts = df_amounts_annualized_octa.loc[df_amounts_annualized_octa.stock_code==code, 'account_nm_eng'].tolist()\n",
    "    status = 1\n",
    "    for account in essential_accounts:\n",
    "        if account not in accounts:\n",
    "            status = 0\n",
    "    \n",
    "    if status == 1:\n",
    "        codes.append(code)\n",
    "df_amounts_essential = df_amounts_annualized_octa.loc[df_amounts_annualized_octa.stock_code.isin(codes)].reset_index(drop=True)\n",
    "df_amounts_essential = df_amounts_essential[df_amounts_essential.Q202211013.notnull()].reset_index(drop=True)\n",
    "print('stock_code counts: ', len(df_amounts_essential.stock_code.unique()))"
   ]
  },
  {
   "cell_type": "code",
   "execution_count": null,
   "metadata": {},
   "outputs": [],
   "source": [
    "# def get_roe(df_amounts_annual, stock_code):\n",
    "#     ''' Get roe (std) '''\n",
    "    \n",
    "#     _df_corp = df_amounts_annual.loc[df_amounts_annual.stock_code==stock_code]\n",
    "#     accounts = _df_corp.account_nm_eng.unique().tolist()\n",
    "    \n",
    "#     # 지배지분귀속 당기순이익\n",
    "#     owners_profit = _df_corp.loc[_df_corp.account_nm_eng=='owners_profit'].iloc[0, 7:]\n",
    "\n",
    "#     # 지배주주지분\n",
    "#     owner_equity = _df_corp.loc[_df_corp.account_nm_eng=='owner_equity'].iloc[0, 7:]\n",
    "    \n",
    "#     # roe\n",
    "#     ROE = owners_profit / owner_equity\n",
    "\n",
    "#     roe_corp = pd.DataFrame([owners_profit, owner_equity, ROE]).reset_index(drop=True)\n",
    "\n",
    "#     roe_corp.loc[:, 'stock_code'] = stock_code\n",
    "#     i = 0\n",
    "#     for indicator in ['owners_profit', 'owner_equity', 'ROE']:\n",
    "#         roe_corp.loc[i, 'ratio'] = indicator\n",
    "#         i += 1\n",
    "        \n",
    "#     return roe_corp"
   ]
  },
  {
   "cell_type": "code",
   "execution_count": null,
   "metadata": {},
   "outputs": [],
   "source": [
    "def get_roe(df_amounts_annual, stock_code):\n",
    "    ''' Get roe (3 step) \n",
    "        ROE = NPM * Asset Turnover * Equity Multiplier\n",
    "\n",
    "        - NPM (Net Profit Margin, the measure of operating efficiency)\n",
    "            \n",
    "            지배지분귀속 당기순이익 / 매출 \n",
    "            \n",
    "        - Asset Turnover (the measure of asset use efficiency)\n",
    "            \n",
    "            매출 / 자산\n",
    "            \n",
    "        - Equity Multiplier (the measure of financial leverage)\n",
    "            \n",
    "            자산 / 자기자본\n",
    "    ''' \n",
    "    \n",
    "    _df_corp = df_amounts_annual.loc[df_amounts_annual.stock_code==stock_code]\n",
    "    accounts = _df_corp.account_nm_eng.unique().tolist()\n",
    "    \n",
    "    # 지배지분귀속 당기순이익\n",
    "    owners_profit = _df_corp.loc[_df_corp.account_nm_eng=='owners_profit'].iloc[0, 7:]\n",
    "    \n",
    "    # 매출액\n",
    "    revenue = _df_corp.loc[_df_corp.account_nm_eng=='revenue'].iloc[0, 7:]\n",
    "    \n",
    "    # 자산\n",
    "    assets = _df_corp.loc[_df_corp.account_nm_eng=='assets'].iloc[0, 7:]\n",
    "    \n",
    "    # 지배주주지분\n",
    "    owner_equity = _df_corp.loc[_df_corp.account_nm_eng=='owner_equity'].iloc[0, 7:]\n",
    "    \n",
    "    # NPM\n",
    "    NPM = owners_profit / revenue\n",
    "    \n",
    "    # AT\n",
    "    AT = revenue / assets\n",
    "    \n",
    "    # EM \n",
    "    EM = assets / owner_equity\n",
    "    \n",
    "    # ROE 3 step\n",
    "    ROE = NPM * AT * EM\n",
    "\n",
    "    roe_corp = pd.DataFrame([owners_profit, revenue, assets, owner_equity, NPM, AT, EM, ROE]).reset_index(drop=True)\n",
    "\n",
    "    roe_corp.loc[:, 'stock_code'] = stock_code\n",
    "    i = 0\n",
    "    for indicator in ['owners_profit', 'revenue', 'assets', 'owner_equity', 'NPM', 'AT', 'EM', 'ROE']:\n",
    "        roe_corp.loc[i, 'ratio'] = indicator\n",
    "        i += 1\n",
    "        \n",
    "    return roe_corp"
   ]
  },
  {
   "cell_type": "code",
   "execution_count": null,
   "metadata": {},
   "outputs": [],
   "source": [
    "# def get_roe(df_amounts_annual, stock_code):\n",
    "#     ''' Get roe (step 5) '''\n",
    "    \n",
    "#     _df_corp = df_amounts_annual.loc[df_amounts_annual.stock_code==stock_code]\n",
    "#     accounts = _df_corp.account_nm_eng.unique().tolist()\n",
    "    \n",
    "#     ## IS ##\n",
    "#     # 매출액\n",
    "#     revenue = _df_corp.loc[_df_corp.account_nm_eng=='revenue'].iloc[0, 7:]\n",
    "#     # 법인세비용\n",
    "#     tax_expense = _df_corp.loc[_df_corp.account_nm_eng=='tax_expense'].iloc[0, 7:]\n",
    "#     # 세전계속사업이익\n",
    "#     profit_before_tax = _df_corp.loc[_df_corp.account_nm_eng=='profit_before_tax'].iloc[0, 7:]\n",
    "    \n",
    "#     # 매출원가\n",
    "#     if 'cost_of_sales' in accounts:\n",
    "#         cost_of_sales = _df_corp.loc[_df_corp.account_nm_eng=='cost_of_sales'].iloc[0, 7:]\n",
    "#     else:\n",
    "#         cost_of_sales = 0\n",
    "    \n",
    "#     # 판매비와관리비\n",
    "#     if 'administrative_expenses' in accounts:\n",
    "#         administrative_expenses = _df_corp.loc[_df_corp.account_nm_eng=='administrative_expenses'].iloc[0, 7:]\n",
    "#     else:\n",
    "#         administrative_expenses = 0\n",
    "    \n",
    "#     # 이자비용\n",
    "#     if 'interest_expense' in accounts:\n",
    "#         interest_expense = _df_corp.loc[_df_corp.account_nm_eng=='interest_expense'].iloc[0, 7:]\n",
    "#     else:\n",
    "#         interest_expense = 0\n",
    "    \n",
    "#     # 영업외손익\n",
    "#     # if 'other_gains' in accounts:\n",
    "#     #     other_gains = _df_corp.loc[_df_corp.account_nm_eng=='other_gains'].iloc[0, 7:]\n",
    "#     # else:\n",
    "#     #     other_gains = 0\n",
    "\n",
    "#     ## BS\n",
    "#     assets = _df_corp.loc[_df_corp.account_nm_eng=='assets'].iloc[0, 7:]\n",
    "#     equity = _df_corp.loc[_df_corp.account_nm_eng=='equity'].iloc[0, 7:]\n",
    "#     owner_equity = _df_corp.loc[_df_corp.account_nm_eng=='owner_equity'].iloc[0, 7:]\n",
    "\n",
    "\n",
    "#     '''- OPM (Operting Profit Magin)\n",
    "#         EBIT / revenue\n",
    "        \n",
    "#         EBIT = revenue - cost_of_sales - administrative_expenses + other_gains - other_losses\n",
    "#             = 당기순이익 + 이자비용 + 법인세비용 - 중단영업이익 + 중단영업손실'''\n",
    "\n",
    "#     EBIT = revenue - cost_of_sales - administrative_expenses\n",
    "#     if EBIT.sum() == revenue.sum():\n",
    "#         EBIT = _df_corp.loc[_df_corp.account_nm_eng=='income'].iloc[0, 7:]\n",
    "#     else:\n",
    "#         pass\n",
    "#     OPM = EBIT / revenue\n",
    "\n",
    "#     '''- AT (Asset Turnover)\n",
    "#         매출 / 자산'''\n",
    "#     AT = revenue / assets\n",
    "\n",
    "#     '''- IER (Interst Expense Rate)\n",
    "#         이자비용 / 자산'''\n",
    "#     IER = interest_expense / assets\n",
    "\n",
    "#     '''- EM (Equity Multiplier)\n",
    "#         자산 / 자기자본'''\n",
    "#     EM = assets / equity      \n",
    "        \n",
    "#     '''- TRR (Tax Retention Rate)\n",
    "#         1 - 법인세율'''\n",
    "        \n",
    "#     TRR = 1 - tax_expense / profit_before_tax\n",
    "\n",
    "#     '''- ROE (Return On Equity)\n",
    "#         (OPM * AT - IER) * EM * TRR'''\n",
    "#     ROE = (OPM * AT - IER) * EM * TRR\n",
    "\n",
    "#     roe_corp = pd.DataFrame([OPM, AT, IER, EM, TRR, ROE, owner_equity]).reset_index(drop=True)\n",
    "\n",
    "#     roe_corp.loc[:, 'stock_code'] = stock_code\n",
    "#     i = 0\n",
    "#     for indicator in ['OPM', 'AT', 'IER', 'EM', 'TRR', 'ROE', 'owner_equity']:\n",
    "#         roe_corp.loc[i, 'ratio'] = indicator\n",
    "#         i += 1\n",
    "        \n",
    "#     return roe_corp"
   ]
  },
  {
   "cell_type": "code",
   "execution_count": null,
   "metadata": {},
   "outputs": [],
   "source": [
    "stock_codes = df_amounts_essential.stock_code.unique()\n",
    "df_list, error = [], []\n",
    "for stock_code in tqdm(stock_codes):\n",
    "    \n",
    "    try:\n",
    "        roe_corp = get_roe(df_amounts_essential, stock_code)\n",
    "        df_list.append(roe_corp)\n",
    "    except IndexError:\n",
    "        # 필수 계정과목이 누락된 경우\n",
    "        error.append(stock_code)\n",
    "    \n",
    "roe_df = pd.concat(df_list).reset_index(drop=True)"
   ]
  },
  {
   "cell_type": "markdown",
   "metadata": {},
   "source": [
    "---\n",
    "### RIM\n",
    "\n",
    "- corp_val = equity + equity * (roe - r) * (w / (1 + r - w))  \n",
    "- price_sell = (equity + equity * (roe - r) / r) / stock_num (w = 1)  \n",
    "- price_prop = (equity + equity * (roe - r) * 0.9 / (1 + r - 0.9)) / stock_num (w = 0.9)  \n",
    "- price_buy = (equity + equity * (roe - r) * 0.8 / (1 + r - 0.8)) / stock_num (w = 0.8)  "
   ]
  },
  {
   "cell_type": "code",
   "execution_count": null,
   "metadata": {},
   "outputs": [],
   "source": [
    "stocks_df = db_dart.get_tbl('dart_stocks')\n",
    "stock_codes = roe_df.stock_code.unique()\n",
    "columns = roe_df.columns[:10]\n",
    "n = len(columns)\n",
    "values_df = stocks_df.copy()\n",
    "\n",
    "rate = 0.08\n",
    "roe_df_ = roe_df[(roe_df.Q202211013>rate) & (roe_df.ratio=='ROE')]\n",
    "stock_codes = roe_df_.stock_code.unique()"
   ]
  },
  {
   "cell_type": "code",
   "execution_count": null,
   "metadata": {},
   "outputs": [],
   "source": [
    "for stock_code in tqdm(stock_codes):\n",
    "    roe = roe_df.loc[(roe_df.stock_code==stock_code) & (roe_df.ratio=='ROE'), columns].values[0]\n",
    "    equity = roe_df.loc[(roe_df.stock_code==stock_code) & (roe_df.ratio=='owner_equity'), columns].values[0]\n",
    "    shares = stocks_df.loc[stocks_df.stock_code==stock_code, 'shares'].values[0]\n",
    "    \n",
    "    # buy price\n",
    "    weight = 0.8\n",
    "    corp_val = equity + equity * (roe - rate) * (weight / (1 + rate - weight)) \n",
    "    price_buy = corp_val / shares\n",
    "    columns_buy = columns + '_buy'\n",
    "    values_df.loc[values_df.stock_code==stock_code, columns_buy] = price_buy\n",
    "    \n",
    "    # sell price\n",
    "    weight = 1\n",
    "    corp_val = equity + equity * (roe - rate) * (weight / (1 + rate - weight)) \n",
    "    price_sell = corp_val / shares\n",
    "    columns_sell = columns + '_sell'\n",
    "    values_df.loc[values_df.stock_code==stock_code, columns_sell] = price_sell\n",
    "    \n",
    "    # prop price\n",
    "    weight = 0.9\n",
    "    corp_val = equity + equity * (roe - rate) * (weight / (1 + rate - weight)) \n",
    "    price_prop = corp_val / shares\n",
    "    columns_prop = columns + '_prop'\n",
    "    values_df.loc[values_df.stock_code==stock_code, columns_prop] = price_prop"
   ]
  },
  {
   "cell_type": "code",
   "execution_count": null,
   "metadata": {},
   "outputs": [],
   "source": [
    "roe_df_"
   ]
  },
  {
   "cell_type": "code",
   "execution_count": null,
   "metadata": {},
   "outputs": [],
   "source": [
    "# values_df.loc[:, 'buy_ratio'] = (values_df.Q202211013_buy - values_df.close) / values_df.Q202211013_buy\n",
    "\n",
    "min_buy_ratio = 0.5\n",
    "values_df.loc[values_df.buy_ratio>min_buy_ratio].sort_values('buy_ratio', ascending=False, ignore_index=True)"
   ]
  },
  {
   "cell_type": "code",
   "execution_count": null,
   "metadata": {},
   "outputs": [],
   "source": [
    "values_df.info()"
   ]
  },
  {
   "cell_type": "code",
   "execution_count": null,
   "metadata": {},
   "outputs": [],
   "source": [
    "sns.kdeplot((values_df.Q202211013_buy - values_df.close) / values_df.Q202211013_buy)"
   ]
  },
  {
   "cell_type": "code",
   "execution_count": null,
   "metadata": {},
   "outputs": [],
   "source": [
    "sns.kdeplot(values_df.loc[values_df.Q202211013_buy > 0, 'Q202211013_buy'])"
   ]
  },
  {
   "cell_type": "markdown",
   "metadata": {},
   "source": [
    "---\n",
    "### Finanace ratio"
   ]
  },
  {
   "cell_type": "code",
   "execution_count": null,
   "metadata": {},
   "outputs": [],
   "source": [
    "ratios = [\n",
    "    'impaired_capital', # 자본잠식률 = (자본금 - 지배주주지분) / 자본금\n",
    "    'bis_ratio', # 자기자본비율 = 자본총계 / 자산총계\n",
    "    'current_ratio', # 유동비율 = 유동자산 / 유동부채\n",
    "    'quick_ratio', # 당좌비율 = 당좌자산 / 유동부채\n",
    "    '', # 수중유동성 = (현금, 예금, 유가증권, 즉시 현금화 가능 자산, 즉시 조달가능 금액) / 월매출(최근 12개월 평균)\n",
    "    '', # D/E 비율 = 유이자부채 / 자기자본\n",
    "    'ROE', # ROE = 지배지분귀속 당기순이익 (8분기 연율화) / 자기자본 (전기, 당기 평균)\n",
    "]"
   ]
  },
  {
   "cell_type": "code",
   "execution_count": null,
   "metadata": {},
   "outputs": [],
   "source": [
    "ratio_expression = {\n",
    "    'impaired_capital': 'issued_capital -- equity ++ non_controlling_equity / issued_capital', # 자본잠식률 = (자본금 - 지배주주지분) / 자본금\n",
    "    'bis_ratio': 'equity / assets', # 자기자본비율 = 자본총계 / 자산총계\n",
    "    'currnet_ratio': 'current_assets / current_liabilities', # 유동비율 = 유동자산 / 유동부채\n",
    "    # 'quick_ratio': 'quick_assets / current_liabilities', # 당좌비율 = 당좌자산 / 유동부채\n",
    "    'quick_ratio': 'current_assets -- investories / current_liabilities', # 당좌비율 = (유동자산 - 재고자산) / 유동부채\n",
    "    'cash_liquidity': 'quick_assets / revenue', # 수중유동성 = (현금, 예금, 유가증권, 즉시 현금화 가능 자산, 즉시 조달가능 금액) / 월매출(최근 12개월 평균)\n",
    "}\n",
    "\n",
    "# input data\n",
    "ratio = 'quick_ratio'\n",
    "expression = ratio_expression['quick_ratio']\n",
    "\n",
    "# save\n",
    "ratio_expression[ratio] = expression\n",
    "\n",
    "expressions = expression.split(' ')\n",
    "expressions"
   ]
  },
  {
   "cell_type": "code",
   "execution_count": null,
   "metadata": {},
   "outputs": [],
   "source": [
    "getr = GetRatio() \n",
    "ratios, errors = getr.get_ratios(ratio, expressions)\n",
    "\n",
    "quarters = DartFinstate(pd.DataFrame()).quarters_q\n",
    "columns = ['stock_code', 'ratio'] + quarters\n",
    "ratio_df = pd.DataFrame(ratios, columns=columns)\n",
    "ratio_df.sort_values(by='Q202211013', ignore_index=True)"
   ]
  },
  {
   "cell_type": "code",
   "execution_count": null,
   "metadata": {},
   "outputs": [],
   "source": [
    "data = ratio_df.sort_values(by='Q202211013', ignore_index=True)['Q202211013']\n",
    "sns.kdeplot(data)"
   ]
  },
  {
   "cell_type": "code",
   "execution_count": null,
   "metadata": {},
   "outputs": [],
   "source": []
  },
  {
   "cell_type": "code",
   "execution_count": null,
   "metadata": {},
   "outputs": [],
   "source": [
    "## Insert data ##\n",
    "\n",
    "fields = tuple(columns)\n",
    "\n",
    "db_dart.insert_many(table_name='dart_ratios', fields=fields, data=ratios)\n",
    "\n",
    "ratios_df = db_dart.get_tbl('dart_ratios')\n",
    "ratios_df.groupby('ratio').count()"
   ]
  },
  {
   "cell_type": "code",
   "execution_count": null,
   "metadata": {},
   "outputs": [],
   "source": [
    "## Table Backup ##\n",
    "\n",
    "# ratios_df = db_dart.get_tbl('dart_ratios')\n",
    "# db_dart_bak.create_table(upload_df=ratios_df, table_name='dart_ratios')"
   ]
  },
  {
   "cell_type": "code",
   "execution_count": null,
   "metadata": {},
   "outputs": [],
   "source": [
    "# ## Delete data ##\n",
    "\n",
    "# conn, curs = db_dart._connect()\n",
    "# table = 'dart_ratios'\n",
    "\n",
    "# # Enter the WHERE condition\n",
    "# where_condition = \"ratio='quick_ratio'\"\n",
    "\n",
    "# query = f'DELETE FROM {table} WHERE {where_condition};'\n",
    "\n",
    "# curs.execute(query)\n",
    "# conn.commit()\n",
    "\n",
    "# curs.close()\n",
    "# conn.close()"
   ]
  },
  {
   "cell_type": "code",
   "execution_count": null,
   "metadata": {},
   "outputs": [],
   "source": [
    "# # Search amouts by stock code\n",
    "# getr.amounts_df[getr.amounts_df.stock_code=='006340.KS']"
   ]
  },
  {
   "cell_type": "code",
   "execution_count": null,
   "metadata": {},
   "outputs": [],
   "source": [
    "## Test ##\n",
    "\n",
    "# ratio_df = pd.DataFrame(columns=columns)\n",
    "# db_dart_bak.engine_upload(upload_df=ratio_df, table_name='dart_ratios_test', if_exists_option='append')\n",
    "\n",
    "# db_dart_bak.insert_many(table_name='dart_ratios_test', fields=tuple(columns), data=ratios)\n",
    "# db_dart_bak.get_tbl('dart_ratios_test')"
   ]
  },
  {
   "cell_type": "code",
   "execution_count": null,
   "metadata": {},
   "outputs": [],
   "source": []
  },
  {
   "cell_type": "markdown",
   "metadata": {},
   "source": [
    "---\n",
    "### Stocks data"
   ]
  },
  {
   "cell_type": "code",
   "execution_count": null,
   "metadata": {},
   "outputs": [],
   "source": [
    "# today \n",
    "today_date = datetime.today().strftime('%Y%m%d')\n",
    "\n",
    "# market\n",
    "market = \"kospi\"\n",
    "\n",
    "# 주가정보, 거래대금 및 주식 수 정보\n",
    "stocks = get_stock_info(market, today_date)\n",
    "    \n",
    "# 보통주 종목코드 \n",
    "common =  get_common_stock_info(market)\n",
    "\n",
    "# stocks에서 보통주만 추출 \n",
    "common_stocks = common.loc[:, ['stock_code']].merge(stocks, on='stock_code', how='inner').sort_values(by='market_cap', ascending=False).reset_index(drop=True)\n",
    "# common_stocks = common_stocks.rename(columns={'종목코드': 'stock_code', '종목명': 'stock_name', '시장구분': 'market', '종가': 'close', '시가': 'open', '고가': 'high', '저가': 'low', '거래량': 'volume', '시가총액': 'market_cap', '상장주식수': 'shares'})\n",
    "\n",
    "# stock codes\n",
    "stock_codes = common_stocks.stock_code.unique().tolist()"
   ]
  },
  {
   "cell_type": "code",
   "execution_count": null,
   "metadata": {},
   "outputs": [],
   "source": [
    "common_stocks"
   ]
  },
  {
   "cell_type": "code",
   "execution_count": null,
   "metadata": {},
   "outputs": [],
   "source": [
    "# db_dart.engine_upload(upload_df=common_stocks, table_name='dart_stocks', if_exists_option='append')\n",
    "updated = datetime.today().strftime('%Y-%m-%d')\n",
    "ranges = range(len(common_stocks))\n",
    "for idx in tqdm(ranges):\n",
    "    stock_code = common_stocks.loc[idx, 'stock_code']\n",
    "    close, open, high, low, volume, amounts, market_cap, shares = common_stocks.iloc[idx, 3:].values\n",
    "\n",
    "    query = f'\\\n",
    "    UPDATE `dart_stocks` \\\n",
    "    SET close={close}, open={open}, low={low}, volume={volume}, amounts={amounts}, market_cap={market_cap}, shares={shares}, updated=\"{updated}\" \\\n",
    "    WHERE stock_code=\"{stock_code}\"'\n",
    "\n",
    "    conn, curs = db_dart._connect()\n",
    "    curs.execute(query)\n",
    "    conn.commit()\n",
    "    curs.close()\n",
    "    conn.close()"
   ]
  },
  {
   "cell_type": "code",
   "execution_count": null,
   "metadata": {},
   "outputs": [],
   "source": [
    "stocks_df = db_dart.get_tbl('dart_stocks')\n",
    "stocks_df.sort_values('amounts').head(60)"
   ]
  },
  {
   "cell_type": "code",
   "execution_count": null,
   "metadata": {},
   "outputs": [],
   "source": [
    "stocks_df.amounts.sum()"
   ]
  },
  {
   "cell_type": "code",
   "execution_count": null,
   "metadata": {},
   "outputs": [],
   "source": []
  }
 ],
 "metadata": {
  "kernelspec": {
   "display_name": "Python 3.9.12 ('venv': venv)",
   "language": "python",
   "name": "python3"
  },
  "language_info": {
   "codemirror_mode": {
    "name": "ipython",
    "version": 3
   },
   "file_extension": ".py",
   "mimetype": "text/x-python",
   "name": "python",
   "nbconvert_exporter": "python",
   "pygments_lexer": "ipython3",
   "version": "3.9.12"
  },
  "orig_nbformat": 4,
  "vscode": {
   "interpreter": {
    "hash": "9ef47e49755e7e23d4dc57612e20c4c0610d46d78a95e293b7f0a54eab8f1a6e"
   }
  }
 },
 "nbformat": 4,
 "nbformat_minor": 2
}
